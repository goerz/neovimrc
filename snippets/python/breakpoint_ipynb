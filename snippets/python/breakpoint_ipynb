from IPython.core.debugger import set_trace; set_trace() # DEBUG
